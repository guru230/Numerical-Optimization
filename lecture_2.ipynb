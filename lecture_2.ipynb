{
 "cells": [
  {
   "cell_type": "code",
   "execution_count": 1,
   "metadata": {},
   "outputs": [],
   "source": [
    "import numpy as np\n",
    "import matplotlib.pyplot as plt\n",
    "import seaborn as sns\n",
    "import pandas as pd"
   ]
  },
  {
   "cell_type": "markdown",
   "metadata": {},
   "source": [
    "#### use pandas to load real_estate_dataset.csv"
   ]
  },
  {
   "cell_type": "code",
   "execution_count": 4,
   "metadata": {},
   "outputs": [
    {
     "name": "stdout",
     "output_type": "stream",
     "text": [
      "ID\n",
      "Square_Feet\n",
      "Num_Bedrooms\n",
      "Num_Bathrooms\n",
      "Num_Floors\n",
      "Year_Built\n",
      "Has_Garden\n",
      "Has_Pool\n",
      "Garage_Size\n",
      "Location_Score\n",
      "Distance_to_Center\n",
      "Price\n"
     ]
    }
   ],
   "source": [
    "df = pd.read_csv('real_estate_dataset.csv')\n",
    "n_samples, n_features = df.shape\n",
    "columns = df.columns\n",
    "#save columns names to file \n",
    "with open('columns.txt', 'w') as f:\n",
    "    for col in columns:\n",
    "        f.write(col + '\\n')\n",
    "        \n",
    "#print colunms names from file\n",
    "with open('columns.txt', 'r') as f:\n",
    "    for line in f:\n",
    "        print(line.strip())"
   ]
  },
  {
   "cell_type": "code",
   "execution_count": null,
   "metadata": {},
   "outputs": [],
   "source": []
  }
 ],
 "metadata": {
  "kernelspec": {
   "display_name": "base",
   "language": "python",
   "name": "python3"
  },
  "language_info": {
   "codemirror_mode": {
    "name": "ipython",
    "version": 3
   },
   "file_extension": ".py",
   "mimetype": "text/x-python",
   "name": "python",
   "nbconvert_exporter": "python",
   "pygments_lexer": "ipython3",
   "version": "3.12.4"
  }
 },
 "nbformat": 4,
 "nbformat_minor": 2
}
